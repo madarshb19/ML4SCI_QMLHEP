{
  "cells": [
    {
      "cell_type": "markdown",
      "id": "5e27f55c",
      "metadata": {
        "id": "5e27f55c"
      },
      "source": [
        "# Classification : Signal events from background events"
      ]
    },
    {
      "cell_type": "code",
      "source": [
        "!pip install tensorflow==2.7.0"
      ],
      "metadata": {
        "colab": {
          "base_uri": "https://localhost:8080/"
        },
        "id": "mf6QMKZTjD67",
        "outputId": "a0aa5d2f-2693-4347-ad53-2b57c7e2e750"
      },
      "id": "mf6QMKZTjD67",
      "execution_count": 32,
      "outputs": [
        {
          "output_type": "stream",
          "name": "stdout",
          "text": [
            "Looking in indexes: https://pypi.org/simple, https://us-python.pkg.dev/colab-wheels/public/simple/\n",
            "Requirement already satisfied: tensorflow==2.7.0 in /usr/local/lib/python3.9/dist-packages (2.7.0)\n",
            "Requirement already satisfied: numpy>=1.14.5 in /usr/local/lib/python3.9/dist-packages (from tensorflow==2.7.0) (1.22.4)\n",
            "Requirement already satisfied: opt-einsum>=2.3.2 in /usr/local/lib/python3.9/dist-packages (from tensorflow==2.7.0) (3.3.0)\n",
            "Requirement already satisfied: typing-extensions>=3.6.6 in /usr/local/lib/python3.9/dist-packages (from tensorflow==2.7.0) (4.5.0)\n",
            "Requirement already satisfied: protobuf>=3.9.2 in /usr/local/lib/python3.9/dist-packages (from tensorflow==2.7.0) (3.17.3)\n",
            "Requirement already satisfied: google-pasta>=0.1.1 in /usr/local/lib/python3.9/dist-packages (from tensorflow==2.7.0) (0.2.0)\n",
            "Requirement already satisfied: wrapt>=1.11.0 in /usr/local/lib/python3.9/dist-packages (from tensorflow==2.7.0) (1.15.0)\n",
            "Requirement already satisfied: tensorflow-io-gcs-filesystem>=0.21.0 in /usr/local/lib/python3.9/dist-packages (from tensorflow==2.7.0) (0.31.0)\n",
            "Requirement already satisfied: tensorboard~=2.6 in /usr/local/lib/python3.9/dist-packages (from tensorflow==2.7.0) (2.11.2)\n",
            "Requirement already satisfied: libclang>=9.0.1 in /usr/local/lib/python3.9/dist-packages (from tensorflow==2.7.0) (15.0.6.1)\n",
            "Requirement already satisfied: keras-preprocessing>=1.1.1 in /usr/local/lib/python3.9/dist-packages (from tensorflow==2.7.0) (1.1.2)\n",
            "Requirement already satisfied: termcolor>=1.1.0 in /usr/local/lib/python3.9/dist-packages (from tensorflow==2.7.0) (2.2.0)\n",
            "Requirement already satisfied: grpcio<2.0,>=1.24.3 in /usr/local/lib/python3.9/dist-packages (from tensorflow==2.7.0) (1.51.3)\n",
            "Requirement already satisfied: keras<2.8,>=2.7.0rc0 in /usr/local/lib/python3.9/dist-packages (from tensorflow==2.7.0) (2.7.0)\n",
            "Requirement already satisfied: tensorflow-estimator<2.8,~=2.7.0rc0 in /usr/local/lib/python3.9/dist-packages (from tensorflow==2.7.0) (2.7.0)\n",
            "Requirement already satisfied: h5py>=2.9.0 in /usr/local/lib/python3.9/dist-packages (from tensorflow==2.7.0) (3.8.0)\n",
            "Requirement already satisfied: six>=1.12.0 in /usr/local/lib/python3.9/dist-packages (from tensorflow==2.7.0) (1.16.0)\n",
            "Requirement already satisfied: astunparse>=1.6.0 in /usr/local/lib/python3.9/dist-packages (from tensorflow==2.7.0) (1.6.3)\n",
            "Requirement already satisfied: flatbuffers<3.0,>=1.12 in /usr/local/lib/python3.9/dist-packages (from tensorflow==2.7.0) (2.0.7)\n",
            "Requirement already satisfied: wheel<1.0,>=0.32.0 in /usr/local/lib/python3.9/dist-packages (from tensorflow==2.7.0) (0.40.0)\n",
            "Requirement already satisfied: absl-py>=0.4.0 in /usr/local/lib/python3.9/dist-packages (from tensorflow==2.7.0) (1.4.0)\n",
            "Requirement already satisfied: gast<0.5.0,>=0.2.1 in /usr/local/lib/python3.9/dist-packages (from tensorflow==2.7.0) (0.4.0)\n",
            "Requirement already satisfied: werkzeug>=1.0.1 in /usr/local/lib/python3.9/dist-packages (from tensorboard~=2.6->tensorflow==2.7.0) (2.2.3)\n",
            "Requirement already satisfied: setuptools>=41.0.0 in /usr/local/lib/python3.9/dist-packages (from tensorboard~=2.6->tensorflow==2.7.0) (67.6.0)\n",
            "Requirement already satisfied: requests<3,>=2.21.0 in /usr/local/lib/python3.9/dist-packages (from tensorboard~=2.6->tensorflow==2.7.0) (2.27.1)\n",
            "Requirement already satisfied: tensorboard-plugin-wit>=1.6.0 in /usr/local/lib/python3.9/dist-packages (from tensorboard~=2.6->tensorflow==2.7.0) (1.8.1)\n",
            "Requirement already satisfied: markdown>=2.6.8 in /usr/local/lib/python3.9/dist-packages (from tensorboard~=2.6->tensorflow==2.7.0) (3.4.1)\n",
            "Requirement already satisfied: google-auth-oauthlib<0.5,>=0.4.1 in /usr/local/lib/python3.9/dist-packages (from tensorboard~=2.6->tensorflow==2.7.0) (0.4.6)\n",
            "Requirement already satisfied: google-auth<3,>=1.6.3 in /usr/local/lib/python3.9/dist-packages (from tensorboard~=2.6->tensorflow==2.7.0) (1.18.0)\n",
            "Requirement already satisfied: tensorboard-data-server<0.7.0,>=0.6.0 in /usr/local/lib/python3.9/dist-packages (from tensorboard~=2.6->tensorflow==2.7.0) (0.6.1)\n",
            "Requirement already satisfied: pyasn1-modules>=0.2.1 in /usr/local/lib/python3.9/dist-packages (from google-auth<3,>=1.6.3->tensorboard~=2.6->tensorflow==2.7.0) (0.2.8)\n",
            "Requirement already satisfied: cachetools<5.0,>=2.0.0 in /usr/local/lib/python3.9/dist-packages (from google-auth<3,>=1.6.3->tensorboard~=2.6->tensorflow==2.7.0) (4.2.4)\n",
            "Requirement already satisfied: rsa<5,>=3.1.4 in /usr/local/lib/python3.9/dist-packages (from google-auth<3,>=1.6.3->tensorboard~=2.6->tensorflow==2.7.0) (4.9)\n",
            "Requirement already satisfied: requests-oauthlib>=0.7.0 in /usr/local/lib/python3.9/dist-packages (from google-auth-oauthlib<0.5,>=0.4.1->tensorboard~=2.6->tensorflow==2.7.0) (1.3.1)\n",
            "Requirement already satisfied: importlib-metadata>=4.4 in /usr/local/lib/python3.9/dist-packages (from markdown>=2.6.8->tensorboard~=2.6->tensorflow==2.7.0) (6.1.0)\n",
            "Requirement already satisfied: charset-normalizer~=2.0.0 in /usr/local/lib/python3.9/dist-packages (from requests<3,>=2.21.0->tensorboard~=2.6->tensorflow==2.7.0) (2.0.12)\n",
            "Requirement already satisfied: certifi>=2017.4.17 in /usr/local/lib/python3.9/dist-packages (from requests<3,>=2.21.0->tensorboard~=2.6->tensorflow==2.7.0) (2022.12.7)\n",
            "Requirement already satisfied: urllib3<1.27,>=1.21.1 in /usr/local/lib/python3.9/dist-packages (from requests<3,>=2.21.0->tensorboard~=2.6->tensorflow==2.7.0) (1.26.15)\n",
            "Requirement already satisfied: idna<4,>=2.5 in /usr/local/lib/python3.9/dist-packages (from requests<3,>=2.21.0->tensorboard~=2.6->tensorflow==2.7.0) (3.4)\n",
            "Requirement already satisfied: MarkupSafe>=2.1.1 in /usr/local/lib/python3.9/dist-packages (from werkzeug>=1.0.1->tensorboard~=2.6->tensorflow==2.7.0) (2.1.2)\n",
            "Requirement already satisfied: zipp>=0.5 in /usr/local/lib/python3.9/dist-packages (from importlib-metadata>=4.4->markdown>=2.6.8->tensorboard~=2.6->tensorflow==2.7.0) (3.15.0)\n",
            "Requirement already satisfied: pyasn1<0.5.0,>=0.4.6 in /usr/local/lib/python3.9/dist-packages (from pyasn1-modules>=0.2.1->google-auth<3,>=1.6.3->tensorboard~=2.6->tensorflow==2.7.0) (0.4.8)\n",
            "Requirement already satisfied: oauthlib>=3.0.0 in /usr/local/lib/python3.9/dist-packages (from requests-oauthlib>=0.7.0->google-auth-oauthlib<0.5,>=0.4.1->tensorboard~=2.6->tensorflow==2.7.0) (3.2.2)\n"
          ]
        }
      ]
    },
    {
      "cell_type": "code",
      "source": [
        "!pip install tensorflow-quantum==0.7.2"
      ],
      "metadata": {
        "colab": {
          "base_uri": "https://localhost:8080/"
        },
        "id": "xeLXqa1GjFPw",
        "outputId": "763aae54-5aa5-442a-d547-ba6a3e8ed40b"
      },
      "id": "xeLXqa1GjFPw",
      "execution_count": 33,
      "outputs": [
        {
          "output_type": "stream",
          "name": "stdout",
          "text": [
            "Looking in indexes: https://pypi.org/simple, https://us-python.pkg.dev/colab-wheels/public/simple/\n",
            "Requirement already satisfied: tensorflow-quantum==0.7.2 in /usr/local/lib/python3.9/dist-packages (0.7.2)\n",
            "Requirement already satisfied: googleapis-common-protos==1.52.0 in /usr/local/lib/python3.9/dist-packages (from tensorflow-quantum==0.7.2) (1.52.0)\n",
            "Requirement already satisfied: google-api-core==1.21.0 in /usr/local/lib/python3.9/dist-packages (from tensorflow-quantum==0.7.2) (1.21.0)\n",
            "Requirement already satisfied: protobuf==3.17.3 in /usr/local/lib/python3.9/dist-packages (from tensorflow-quantum==0.7.2) (3.17.3)\n",
            "Requirement already satisfied: sympy==1.8 in /usr/local/lib/python3.9/dist-packages (from tensorflow-quantum==0.7.2) (1.8)\n",
            "Requirement already satisfied: google-auth==1.18.0 in /usr/local/lib/python3.9/dist-packages (from tensorflow-quantum==0.7.2) (1.18.0)\n",
            "Requirement already satisfied: cirq-core==0.13.1 in /usr/local/lib/python3.9/dist-packages (from tensorflow-quantum==0.7.2) (0.13.1)\n",
            "Requirement already satisfied: cirq-google>=0.13.1 in /usr/local/lib/python3.9/dist-packages (from tensorflow-quantum==0.7.2) (0.13.1)\n",
            "Requirement already satisfied: tqdm in /usr/local/lib/python3.9/dist-packages (from cirq-core==0.13.1->tensorflow-quantum==0.7.2) (4.65.0)\n",
            "Requirement already satisfied: networkx~=2.4 in /usr/local/lib/python3.9/dist-packages (from cirq-core==0.13.1->tensorflow-quantum==0.7.2) (2.8.8)\n",
            "Requirement already satisfied: typing-extensions in /usr/local/lib/python3.9/dist-packages (from cirq-core==0.13.1->tensorflow-quantum==0.7.2) (4.5.0)\n",
            "Requirement already satisfied: matplotlib~=3.0 in /usr/local/lib/python3.9/dist-packages (from cirq-core==0.13.1->tensorflow-quantum==0.7.2) (3.7.1)\n",
            "Requirement already satisfied: numpy~=1.16 in /usr/local/lib/python3.9/dist-packages (from cirq-core==0.13.1->tensorflow-quantum==0.7.2) (1.22.4)\n",
            "Requirement already satisfied: scipy in /usr/local/lib/python3.9/dist-packages (from cirq-core==0.13.1->tensorflow-quantum==0.7.2) (1.10.1)\n",
            "Requirement already satisfied: duet~=0.2.0 in /usr/local/lib/python3.9/dist-packages (from cirq-core==0.13.1->tensorflow-quantum==0.7.2) (0.2.7)\n",
            "Requirement already satisfied: sortedcontainers~=2.0 in /usr/local/lib/python3.9/dist-packages (from cirq-core==0.13.1->tensorflow-quantum==0.7.2) (2.4.0)\n",
            "Requirement already satisfied: pandas in /usr/local/lib/python3.9/dist-packages (from cirq-core==0.13.1->tensorflow-quantum==0.7.2) (1.4.4)\n",
            "Requirement already satisfied: six>=1.10.0 in /usr/local/lib/python3.9/dist-packages (from google-api-core==1.21.0->tensorflow-quantum==0.7.2) (1.16.0)\n",
            "Requirement already satisfied: requests<3.0.0dev,>=2.18.0 in /usr/local/lib/python3.9/dist-packages (from google-api-core==1.21.0->tensorflow-quantum==0.7.2) (2.27.1)\n",
            "Requirement already satisfied: pytz in /usr/local/lib/python3.9/dist-packages (from google-api-core==1.21.0->tensorflow-quantum==0.7.2) (2022.7.1)\n",
            "Requirement already satisfied: setuptools>=34.0.0 in /usr/local/lib/python3.9/dist-packages (from google-api-core==1.21.0->tensorflow-quantum==0.7.2) (67.6.0)\n",
            "Requirement already satisfied: pyasn1-modules>=0.2.1 in /usr/local/lib/python3.9/dist-packages (from google-auth==1.18.0->tensorflow-quantum==0.7.2) (0.2.8)\n",
            "Requirement already satisfied: rsa<5,>=3.1.4 in /usr/local/lib/python3.9/dist-packages (from google-auth==1.18.0->tensorflow-quantum==0.7.2) (4.9)\n",
            "Requirement already satisfied: cachetools<5.0,>=2.0.0 in /usr/local/lib/python3.9/dist-packages (from google-auth==1.18.0->tensorflow-quantum==0.7.2) (4.2.4)\n",
            "Requirement already satisfied: mpmath>=0.19 in /usr/local/lib/python3.9/dist-packages (from sympy==1.8->tensorflow-quantum==0.7.2) (1.3.0)\n",
            "Requirement already satisfied: grpcio<2.0dev,>=1.29.0 in /usr/local/lib/python3.9/dist-packages (from google-api-core==1.21.0->tensorflow-quantum==0.7.2) (1.51.3)\n",
            "Requirement already satisfied: kiwisolver>=1.0.1 in /usr/local/lib/python3.9/dist-packages (from matplotlib~=3.0->cirq-core==0.13.1->tensorflow-quantum==0.7.2) (1.4.4)\n",
            "Requirement already satisfied: fonttools>=4.22.0 in /usr/local/lib/python3.9/dist-packages (from matplotlib~=3.0->cirq-core==0.13.1->tensorflow-quantum==0.7.2) (4.39.2)\n",
            "Requirement already satisfied: python-dateutil>=2.7 in /usr/local/lib/python3.9/dist-packages (from matplotlib~=3.0->cirq-core==0.13.1->tensorflow-quantum==0.7.2) (2.8.2)\n",
            "Requirement already satisfied: contourpy>=1.0.1 in /usr/local/lib/python3.9/dist-packages (from matplotlib~=3.0->cirq-core==0.13.1->tensorflow-quantum==0.7.2) (1.0.7)\n",
            "Requirement already satisfied: cycler>=0.10 in /usr/local/lib/python3.9/dist-packages (from matplotlib~=3.0->cirq-core==0.13.1->tensorflow-quantum==0.7.2) (0.11.0)\n",
            "Requirement already satisfied: packaging>=20.0 in /usr/local/lib/python3.9/dist-packages (from matplotlib~=3.0->cirq-core==0.13.1->tensorflow-quantum==0.7.2) (23.0)\n",
            "Requirement already satisfied: importlib-resources>=3.2.0 in /usr/local/lib/python3.9/dist-packages (from matplotlib~=3.0->cirq-core==0.13.1->tensorflow-quantum==0.7.2) (5.12.0)\n",
            "Requirement already satisfied: pillow>=6.2.0 in /usr/local/lib/python3.9/dist-packages (from matplotlib~=3.0->cirq-core==0.13.1->tensorflow-quantum==0.7.2) (8.4.0)\n",
            "Requirement already satisfied: pyparsing>=2.3.1 in /usr/local/lib/python3.9/dist-packages (from matplotlib~=3.0->cirq-core==0.13.1->tensorflow-quantum==0.7.2) (3.0.9)\n",
            "Requirement already satisfied: pyasn1<0.5.0,>=0.4.6 in /usr/local/lib/python3.9/dist-packages (from pyasn1-modules>=0.2.1->google-auth==1.18.0->tensorflow-quantum==0.7.2) (0.4.8)\n",
            "Requirement already satisfied: certifi>=2017.4.17 in /usr/local/lib/python3.9/dist-packages (from requests<3.0.0dev,>=2.18.0->google-api-core==1.21.0->tensorflow-quantum==0.7.2) (2022.12.7)\n",
            "Requirement already satisfied: urllib3<1.27,>=1.21.1 in /usr/local/lib/python3.9/dist-packages (from requests<3.0.0dev,>=2.18.0->google-api-core==1.21.0->tensorflow-quantum==0.7.2) (1.26.15)\n",
            "Requirement already satisfied: idna<4,>=2.5 in /usr/local/lib/python3.9/dist-packages (from requests<3.0.0dev,>=2.18.0->google-api-core==1.21.0->tensorflow-quantum==0.7.2) (3.4)\n",
            "Requirement already satisfied: charset-normalizer~=2.0.0 in /usr/local/lib/python3.9/dist-packages (from requests<3.0.0dev,>=2.18.0->google-api-core==1.21.0->tensorflow-quantum==0.7.2) (2.0.12)\n",
            "Requirement already satisfied: zipp>=3.1.0 in /usr/local/lib/python3.9/dist-packages (from importlib-resources>=3.2.0->matplotlib~=3.0->cirq-core==0.13.1->tensorflow-quantum==0.7.2) (3.15.0)\n"
          ]
        }
      ]
    },
    {
      "cell_type": "code",
      "source": [
        "# Update package resources to account for version changes.\n",
        "import importlib, pkg_resources\n",
        "importlib.reload(pkg_resources)"
      ],
      "metadata": {
        "colab": {
          "base_uri": "https://localhost:8080/"
        },
        "id": "VDRL8cIsjGWF",
        "outputId": "b724e851-dd84-4e31-a420-211b6720384d"
      },
      "id": "VDRL8cIsjGWF",
      "execution_count": 34,
      "outputs": [
        {
          "output_type": "execute_result",
          "data": {
            "text/plain": [
              "<module 'pkg_resources' from '/usr/local/lib/python3.9/dist-packages/pkg_resources/__init__.py'>"
            ]
          },
          "metadata": {},
          "execution_count": 34
        }
      ]
    },
    {
      "cell_type": "markdown",
      "id": "cc043171",
      "metadata": {
        "id": "cc043171"
      },
      "source": [
        "## Data Preprocessing"
      ]
    },
    {
      "cell_type": "code",
      "execution_count": 35,
      "id": "81f5b6fe",
      "metadata": {
        "id": "81f5b6fe"
      },
      "outputs": [],
      "source": [
        "import numpy as np"
      ]
    },
    {
      "cell_type": "code",
      "execution_count": 36,
      "id": "b5dcf687",
      "metadata": {
        "id": "b5dcf687"
      },
      "outputs": [],
      "source": [
        "# Load data\n",
        "dataset = []\n",
        "dataset = np.load('QIS_EXAM_200Events.npz',allow_pickle = True)"
      ]
    },
    {
      "cell_type": "code",
      "execution_count": 37,
      "id": "a66c64d6",
      "metadata": {
        "colab": {
          "base_uri": "https://localhost:8080/"
        },
        "id": "a66c64d6",
        "outputId": "2bbf10b1-2060-4a5a-8f00-8ea263439bcb"
      },
      "outputs": [
        {
          "output_type": "stream",
          "name": "stdout",
          "text": [
            "training_input\n",
            "test_input\n"
          ]
        }
      ],
      "source": [
        "for i in dataset.keys():\n",
        "    print(i)"
      ]
    },
    {
      "cell_type": "code",
      "execution_count": 38,
      "id": "3d10a607",
      "metadata": {
        "colab": {
          "base_uri": "https://localhost:8080/"
        },
        "id": "3d10a607",
        "outputId": "163445f6-dd64-4df7-e6fd-edf58c9f3fd5"
      },
      "outputs": [
        {
          "output_type": "execute_result",
          "data": {
            "text/plain": [
              "<numpy.lib.npyio.NpzFile at 0x7fe410364a60>"
            ]
          },
          "metadata": {},
          "execution_count": 38
        }
      ],
      "source": [
        "dataset # 0:Signal events 1:Background events"
      ]
    },
    {
      "cell_type": "code",
      "execution_count": 39,
      "id": "69f5502c",
      "metadata": {
        "id": "69f5502c"
      },
      "outputs": [],
      "source": [
        "X_train = dataset['training_input'].item()['0']\n",
        "y_train = dataset['training_input'].item()['1']"
      ]
    },
    {
      "cell_type": "code",
      "execution_count": 40,
      "id": "042a0923",
      "metadata": {
        "id": "042a0923"
      },
      "outputs": [],
      "source": [
        "X_test = dataset['test_input'].item()['0']\n",
        "y_test = dataset['test_input'].item()['1']"
      ]
    },
    {
      "cell_type": "code",
      "execution_count": 41,
      "id": "79956e98",
      "metadata": {
        "id": "79956e98"
      },
      "outputs": [],
      "source": [
        "import numpy as np\n",
        "import tensorflow as tf\n",
        "import tensorflow_quantum as tfq\n",
        "from tensorflow.keras import layers\n",
        "from sklearn.metrics import roc_auc_score"
      ]
    },
    {
      "cell_type": "code",
      "source": [
        "import cirq"
      ],
      "metadata": {
        "id": "24FxRW2wkPxy"
      },
      "id": "24FxRW2wkPxy",
      "execution_count": 42,
      "outputs": []
    },
    {
      "cell_type": "code",
      "source": [
        "import sympy"
      ],
      "metadata": {
        "id": "FBNdOns2nF1y"
      },
      "id": "FBNdOns2nF1y",
      "execution_count": 43,
      "outputs": []
    },
    {
      "cell_type": "code",
      "source": [
        "# Define the qubits\n",
        "qubits = [cirq.GridQubit(0, i) for i in range(4)]\n",
        "\n",
        "# Convert each input feature to a circuit\n",
        "X_train_circuits = []\n",
        "for x in X_train:\n",
        "    circuit = cirq.Circuit()\n",
        "    for i, xi in enumerate(x):\n",
        "        if xi == 1:\n",
        "            circuit.append(cirq.X(qubits[i]))\n",
        "    circuit.append(cirq.measure(*qubits, key='result'))\n",
        "    X_train_circuits.append(circuit)\n",
        "\n",
        "# Convert y_train to tensor\n",
        "y_train_tensor = tf.convert_to_tensor(y_train, dtype=tf.float32)\n",
        "\n",
        "# Convert X_train to tensor\n",
        "X_train_tensor = tfq.convert_to_tensor(X_train_circuits)"
      ],
      "metadata": {
        "id": "tNkR8aYNzw6P"
      },
      "id": "tNkR8aYNzw6P",
      "execution_count": 44,
      "outputs": []
    },
    {
      "cell_type": "code",
      "source": [
        "N_TRAIN = 5"
      ],
      "metadata": {
        "id": "0tPVwVuconvS"
      },
      "id": "0tPVwVuconvS",
      "execution_count": 45,
      "outputs": []
    },
    {
      "cell_type": "code",
      "source": [
        "X_train.shape"
      ],
      "metadata": {
        "colab": {
          "base_uri": "https://localhost:8080/"
        },
        "id": "GQ6CrPQm9e-X",
        "outputId": "dc197e95-2713-4dda-abf8-48d4b53df07e"
      },
      "id": "GQ6CrPQm9e-X",
      "execution_count": 46,
      "outputs": [
        {
          "output_type": "execute_result",
          "data": {
            "text/plain": [
              "(50, 5)"
            ]
          },
          "metadata": {},
          "execution_count": 46
        }
      ]
    },
    {
      "cell_type": "code",
      "source": [
        "X_train_tensor.shape"
      ],
      "metadata": {
        "colab": {
          "base_uri": "https://localhost:8080/"
        },
        "id": "WOTTbepA9gmN",
        "outputId": "701415a5-0401-4783-c958-3de6ef6090c8"
      },
      "id": "WOTTbepA9gmN",
      "execution_count": 47,
      "outputs": [
        {
          "output_type": "execute_result",
          "data": {
            "text/plain": [
              "TensorShape([50])"
            ]
          },
          "metadata": {},
          "execution_count": 47
        }
      ]
    },
    {
      "cell_type": "code",
      "source": [
        "N_QUBITS = 5"
      ],
      "metadata": {
        "id": "ig0y3zCVDXzv"
      },
      "id": "ig0y3zCVDXzv",
      "execution_count": 48,
      "outputs": []
    },
    {
      "cell_type": "code",
      "execution_count": 49,
      "id": "631f4758",
      "metadata": {
        "id": "631f4758"
      },
      "outputs": [],
      "source": [
        "LATENT_DIM = 50\n",
        "def make_generator_model():\n",
        "    \"\"\"Construct generator model.\"\"\"\n",
        "    model = tf.keras.Sequential()\n",
        "    model.add(layers.Dense(256, use_bias=False, input_shape=(LATENT_DIM,)))\n",
        "    model.add(layers.Dense(128, activation='relu'))\n",
        "    model.add(layers.Dropout(0.3))\n",
        "    model.add(layers.Dense(64, activation='relu'))\n",
        "    model.add(layers.Dense(N_QUBITS, activation='relu'))\n",
        "\n",
        "    return model\n",
        "\n",
        "def make_discriminator_model():\n",
        "    \"\"\"Constrcut discriminator model.\"\"\"\n",
        "    model = tf.keras.Sequential()\n",
        "    model.add(layers.Dense(256, use_bias=False, input_shape=(N_QUBITS,)))\n",
        "    model.add(layers.Dense(128, activation='relu'))\n",
        "    model.add(layers.Dropout(0.3))\n",
        "    model.add(layers.Dense(32, activation='relu'))\n",
        "    model.add(layers.Dense(1))\n",
        "\n",
        "    return model"
      ]
    },
    {
      "cell_type": "code",
      "source": [
        "generator = make_generator_model()\n",
        "discriminator = make_discriminator_model()"
      ],
      "metadata": {
        "id": "dZQsTf0pqQN3"
      },
      "id": "dZQsTf0pqQN3",
      "execution_count": 50,
      "outputs": []
    },
    {
      "cell_type": "code",
      "source": [
        "cross_entropy = tf.keras.losses.BinaryCrossentropy(from_logits=True)\n",
        "def discriminator_loss(real_output, fake_output):\n",
        "    \"\"\"Compute discriminator loss.\"\"\"\n",
        "    real_loss = cross_entropy(tf.ones_like(real_output), real_output)\n",
        "    fake_loss = cross_entropy(tf.zeros_like(fake_output), fake_output)\n",
        "    total_loss = real_loss + fake_loss\n",
        "    return total_loss\n",
        "\n",
        "def generator_loss(fake_output):\n",
        "    \"\"\"Compute generator loss.\"\"\"\n",
        "    return cross_entropy(tf.ones_like(fake_output), fake_output)\n",
        "\n",
        "generator_optimizer = tf.keras.optimizers.Adam(1e-4)\n",
        "discriminator_optimizer = tf.keras.optimizers.Adam(1e-4)"
      ],
      "metadata": {
        "id": "-9PYm-fgqRmp"
      },
      "id": "-9PYm-fgqRmp",
      "execution_count": 51,
      "outputs": []
    },
    {
      "cell_type": "code",
      "source": [
        "BATCH_SIZE=256\n",
        "\n",
        "@tf.function\n",
        "def train_step(images):\n",
        "    noise = tf.random.normal([BATCH_SIZE, LATENT_DIM])\n",
        "    with tf.GradientTape() as gen_tape, tf.GradientTape() as disc_tape:\n",
        "        generated_images = generator(noise, training=True)\n",
        "\n",
        "        real_output = discriminator(images, training=True)\n",
        "        fake_output = discriminator(generated_images, training=True)\n",
        "\n",
        "        gen_loss = generator_loss(fake_output)\n",
        "        disc_loss = discriminator_loss(real_output, fake_output)\n",
        "\n",
        "    gradients_of_generator = gen_tape.gradient(\n",
        "        gen_loss, generator.trainable_variables)\n",
        "    gradients_of_discriminator = disc_tape.gradient(\n",
        "        disc_loss, discriminator.trainable_variables)\n",
        "\n",
        "    generator_optimizer.apply_gradients(\n",
        "        zip(gradients_of_generator, generator.trainable_variables))\n",
        "    discriminator_optimizer.apply_gradients(\n",
        "        zip(gradients_of_discriminator, discriminator.trainable_variables))\n",
        "\n",
        "    return gen_loss, disc_loss"
      ],
      "metadata": {
        "id": "p_osr2hGqVSx"
      },
      "id": "p_osr2hGqVSx",
      "execution_count": 52,
      "outputs": []
    },
    {
      "cell_type": "code",
      "source": [
        "import time"
      ],
      "metadata": {
        "id": "bA_yv7plrd7R"
      },
      "id": "bA_yv7plrd7R",
      "execution_count": 53,
      "outputs": []
    },
    {
      "cell_type": "code",
      "source": [
        "def train(dataset, epochs, start_epoch=1):\n",
        "    \"\"\"Launch full training run for the given number of epochs.\"\"\"\n",
        "    # Log original training distribution.\n",
        "    batched_data = tf.data.Dataset.from_tensor_slices(dataset).shuffle(N_TRAIN).batch(512)\n",
        "    t = time.time()\n",
        "    for epoch in range(start_epoch, start_epoch + epochs):\n",
        "        for i, image_batch in enumerate(batched_data):\n",
        "            # Log batch-wise loss.\n",
        "            gl, dl = train_step(image_batch)\n",
        "            tf.summary.scalar(\n",
        "                'Generator loss', data=gl, step=epoch * len(batched_data) + i)\n",
        "            tf.summary.scalar(\n",
        "                'Discriminator loss', data=dl, step=epoch * len(batched_data) + i)\n",
        "\n",
        "        if epoch % 10 == 0:\n",
        "            print('Epoch {}, took {}(s)'.format(epoch, time.time() - t),'Generator Loss : ',gl.numpy(),'Discriminator Loss :',dl.numpy())\n",
        "            t = time.time()"
      ],
      "metadata": {
        "id": "aWLlJb_-qbqt"
      },
      "id": "aWLlJb_-qbqt",
      "execution_count": 54,
      "outputs": []
    },
    {
      "cell_type": "code",
      "source": [
        "train(X_train, epochs=200)"
      ],
      "metadata": {
        "colab": {
          "base_uri": "https://localhost:8080/"
        },
        "id": "1W5BWrIpr8Fy",
        "outputId": "c0683dc2-49cb-45ac-8a25-3bff8d829abd"
      },
      "id": "1W5BWrIpr8Fy",
      "execution_count": 55,
      "outputs": [
        {
          "output_type": "stream",
          "name": "stdout",
          "text": [
            "Epoch 10, took 2.6762290000915527(s) Generator Loss :  0.6851231 Discriminator Loss : 1.2971206\n",
            "Epoch 20, took 0.15517330169677734(s) Generator Loss :  0.71206796 Discriminator Loss : 1.221551\n",
            "Epoch 30, took 0.15167617797851562(s) Generator Loss :  0.73501706 Discriminator Loss : 1.1479139\n",
            "Epoch 40, took 0.214141845703125(s) Generator Loss :  0.7397375 Discriminator Loss : 1.0975152\n",
            "Epoch 50, took 0.28757476806640625(s) Generator Loss :  0.751351 Discriminator Loss : 1.0443809\n",
            "Epoch 60, took 0.28740906715393066(s) Generator Loss :  0.7538519 Discriminator Loss : 1.0030103\n",
            "Epoch 70, took 0.25377988815307617(s) Generator Loss :  0.73877764 Discriminator Loss : 0.98648816\n",
            "Epoch 80, took 0.25180578231811523(s) Generator Loss :  0.7376641 Discriminator Loss : 0.935309\n",
            "Epoch 90, took 0.2774319648742676(s) Generator Loss :  0.73420787 Discriminator Loss : 0.9083604\n",
            "Epoch 100, took 0.26679372787475586(s) Generator Loss :  0.73838794 Discriminator Loss : 0.85971886\n",
            "Epoch 110, took 0.23462224006652832(s) Generator Loss :  0.73796844 Discriminator Loss : 0.83681744\n",
            "Epoch 120, took 0.24863290786743164(s) Generator Loss :  0.7428599 Discriminator Loss : 0.80548346\n",
            "Epoch 130, took 0.2502598762512207(s) Generator Loss :  0.7473096 Discriminator Loss : 0.7752386\n",
            "Epoch 140, took 0.26074671745300293(s) Generator Loss :  0.7513241 Discriminator Loss : 0.7611042\n",
            "Epoch 150, took 0.2865595817565918(s) Generator Loss :  0.7574998 Discriminator Loss : 0.729697\n",
            "Epoch 160, took 0.24717187881469727(s) Generator Loss :  0.7626591 Discriminator Loss : 0.7230184\n",
            "Epoch 170, took 0.2623746395111084(s) Generator Loss :  0.76798654 Discriminator Loss : 0.70495707\n",
            "Epoch 180, took 0.2893252372741699(s) Generator Loss :  0.7755605 Discriminator Loss : 0.6831607\n",
            "Epoch 190, took 0.3935201168060303(s) Generator Loss :  0.7828107 Discriminator Loss : 0.6680956\n",
            "Epoch 200, took 0.3178901672363281(s) Generator Loss :  0.7928854 Discriminator Loss : 0.65211576\n"
          ]
        }
      ]
    }
  ],
  "metadata": {
    "kernelspec": {
      "display_name": "Python 3 (ipykernel)",
      "language": "python",
      "name": "python3"
    },
    "language_info": {
      "codemirror_mode": {
        "name": "ipython",
        "version": 3
      },
      "file_extension": ".py",
      "mimetype": "text/x-python",
      "name": "python",
      "nbconvert_exporter": "python",
      "pygments_lexer": "ipython3",
      "version": "3.9.13"
    },
    "colab": {
      "provenance": []
    }
  },
  "nbformat": 4,
  "nbformat_minor": 5
}