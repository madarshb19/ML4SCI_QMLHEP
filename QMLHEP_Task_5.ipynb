{
 "cells": [
  {
   "cell_type": "markdown",
   "metadata": {
    "id": "Mcrss3uVHQbj"
   },
   "source": [
    "# Main Idea of applying Quantum GNNs\n",
    "\n",
    "## We could encode graph information (Nodes and Edges) into quantum states and then manipulate these states using quantum gates to perform computations. The QGNN can then output a quantum state, which can be measured to produce a prediction. For example , Each node in the graph is represented as a feature vector, and the edges between the nodes are represented by a series of entangling CNOT gates. For training,we can apply rotation gates at the nodes (which are qubits) and train these values using an optimizer. And for output,we can map these values to a classical output answer using a threshold of 0.5"
   ]
  },
  {
   "cell_type": "code",
   "execution_count": 2,
   "metadata": {
    "colab": {
     "base_uri": "https://localhost:8080/"
    },
    "id": "JpuFndk8GMkL",
    "outputId": "90acd6d9-065a-4865-b3b4-808c24836328"
   },
   "outputs": [
    {
     "name": "stdout",
     "output_type": "stream",
     "text": [
      "Looking in indexes: https://pypi.org/simple, https://us-python.pkg.dev/colab-wheels/public/simple/\n",
      "Collecting pennylane\n",
      "  Downloading PennyLane-0.29.0-py3-none-any.whl (1.3 MB)\n",
      "\u001b[2K     \u001b[90m━━━━━━━━━━━━━━━━━━━━━━━━━━━━━━━━━━━━━━━━\u001b[0m \u001b[32m1.3/1.3 MB\u001b[0m \u001b[31m20.7 MB/s\u001b[0m eta \u001b[36m0:00:00\u001b[0m\n",
      "\u001b[?25hRequirement already satisfied: autograd in /usr/local/lib/python3.8/dist-packages (from pennylane) (1.5)\n",
      "Requirement already satisfied: cachetools in /usr/local/lib/python3.8/dist-packages (from pennylane) (5.3.0)\n",
      "Requirement already satisfied: numpy<1.24 in /usr/local/lib/python3.8/dist-packages (from pennylane) (1.22.4)\n",
      "Collecting autoray>=0.3.1\n",
      "  Downloading autoray-0.6.1-py3-none-any.whl (47 kB)\n",
      "\u001b[2K     \u001b[90m━━━━━━━━━━━━━━━━━━━━━━━━━━━━━━━━━━━━━━━━\u001b[0m \u001b[32m47.3/47.3 KB\u001b[0m \u001b[31m6.1 MB/s\u001b[0m eta \u001b[36m0:00:00\u001b[0m\n",
      "\u001b[?25hCollecting retworkx\n",
      "  Downloading retworkx-0.12.1-py3-none-any.whl (10 kB)\n",
      "Collecting pennylane-lightning>=0.28\n",
      "  Downloading PennyLane_Lightning-0.29.0-cp38-cp38-manylinux_2_17_x86_64.manylinux2014_x86_64.whl (16.5 MB)\n",
      "\u001b[2K     \u001b[90m━━━━━━━━━━━━━━━━━━━━━━━━━━━━━━━━━━━━━━━━\u001b[0m \u001b[32m16.5/16.5 MB\u001b[0m \u001b[31m97.5 MB/s\u001b[0m eta \u001b[36m0:00:00\u001b[0m\n",
      "\u001b[?25hRequirement already satisfied: appdirs in /usr/local/lib/python3.8/dist-packages (from pennylane) (1.4.4)\n",
      "Requirement already satisfied: scipy in /usr/local/lib/python3.8/dist-packages (from pennylane) (1.10.1)\n",
      "Collecting semantic-version>=2.7\n",
      "  Downloading semantic_version-2.10.0-py2.py3-none-any.whl (15 kB)\n",
      "Requirement already satisfied: toml in /usr/local/lib/python3.8/dist-packages (from pennylane) (0.10.2)\n",
      "Requirement already satisfied: networkx in /usr/local/lib/python3.8/dist-packages (from pennylane) (3.0)\n",
      "Requirement already satisfied: requests in /usr/local/lib/python3.8/dist-packages (from pennylane) (2.25.1)\n",
      "Requirement already satisfied: future>=0.15.2 in /usr/local/lib/python3.8/dist-packages (from autograd->pennylane) (0.16.0)\n",
      "Requirement already satisfied: chardet<5,>=3.0.2 in /usr/local/lib/python3.8/dist-packages (from requests->pennylane) (4.0.0)\n",
      "Requirement already satisfied: urllib3<1.27,>=1.21.1 in /usr/local/lib/python3.8/dist-packages (from requests->pennylane) (1.26.14)\n",
      "Requirement already satisfied: certifi>=2017.4.17 in /usr/local/lib/python3.8/dist-packages (from requests->pennylane) (2022.12.7)\n",
      "Requirement already satisfied: idna<3,>=2.5 in /usr/local/lib/python3.8/dist-packages (from requests->pennylane) (2.10)\n",
      "Collecting rustworkx==0.12.1\n",
      "  Downloading rustworkx-0.12.1-cp38-cp38-manylinux_2_17_x86_64.manylinux2014_x86_64.whl (1.9 MB)\n",
      "\u001b[2K     \u001b[90m━━━━━━━━━━━━━━━━━━━━━━━━━━━━━━━━━━━━━━━━\u001b[0m \u001b[32m1.9/1.9 MB\u001b[0m \u001b[31m86.1 MB/s\u001b[0m eta \u001b[36m0:00:00\u001b[0m\n",
      "\u001b[?25hInstalling collected packages: semantic-version, rustworkx, autoray, retworkx, pennylane-lightning, pennylane\n",
      "Successfully installed autoray-0.6.1 pennylane-0.29.0 pennylane-lightning-0.29.0 retworkx-0.12.1 rustworkx-0.12.1 semantic-version-2.10.0\n"
     ]
    }
   ],
   "source": [
    "!pip install pennylane"
   ]
  },
  {
   "cell_type": "markdown",
   "metadata": {
    "id": "CfjVN2nQM7Lr"
   },
   "source": [
    "### Obtaining Edge lists from task 2 (not used for main task)"
   ]
  },
  {
   "cell_type": "code",
   "execution_count": 10,
   "metadata": {
    "colab": {
     "base_uri": "https://localhost:8080/"
    },
    "id": "yjAGkdVdNARx",
    "outputId": "6058c860-cfc0-4ed9-9603-b5d98055a36f"
   },
   "outputs": [
    {
     "name": "stdout",
     "output_type": "stream",
     "text": [
      "Looking in indexes: https://pypi.org/simple, https://us-python.pkg.dev/colab-wheels/public/simple/\n",
      "Collecting energyflow\n",
      "  Downloading EnergyFlow-1.3.2-py2.py3-none-any.whl (700 kB)\n",
      "\u001b[2K     \u001b[90m━━━━━━━━━━━━━━━━━━━━━━━━━━━━━━━━━━━━━━\u001b[0m \u001b[32m700.5/700.5 KB\u001b[0m \u001b[31m12.6 MB/s\u001b[0m eta \u001b[36m0:00:00\u001b[0m\n",
      "\u001b[?25hRequirement already satisfied: h5py>=2.9.0 in /usr/local/lib/python3.8/dist-packages (from energyflow) (3.1.0)\n",
      "Collecting wasserstein>=0.3.1\n",
      "  Downloading Wasserstein-1.1.0-cp38-cp38-manylinux_2_17_x86_64.manylinux2014_x86_64.whl (502 kB)\n",
      "\u001b[2K     \u001b[90m━━━━━━━━━━━━━━━━━━━━━━━━━━━━━━━━━━━━━━\u001b[0m \u001b[32m503.0/503.0 KB\u001b[0m \u001b[31m45.0 MB/s\u001b[0m eta \u001b[36m0:00:00\u001b[0m\n",
      "\u001b[?25hRequirement already satisfied: six>=1.10.0 in /usr/local/lib/python3.8/dist-packages (from energyflow) (1.15.0)\n",
      "Requirement already satisfied: numpy>=1.16.0 in /usr/local/lib/python3.8/dist-packages (from energyflow) (1.22.4)\n",
      "Collecting wurlitzer>=2.0.0\n",
      "  Downloading wurlitzer-3.0.3-py3-none-any.whl (7.3 kB)\n",
      "Installing collected packages: wurlitzer, wasserstein, energyflow\n",
      "Successfully installed energyflow-1.3.2 wasserstein-1.1.0 wurlitzer-3.0.3\n"
     ]
    }
   ],
   "source": [
    "!pip install energyflow"
   ]
  },
  {
   "cell_type": "code",
   "execution_count": 11,
   "metadata": {
    "colab": {
     "base_uri": "https://localhost:8080/"
    },
    "id": "0oyRcekUMYbg",
    "outputId": "b8995520-be01-4bee-f500-630a92afafdc"
   },
   "outputs": [
    {
     "name": "stdout",
     "output_type": "stream",
     "text": [
      "Downloading QG_jets.npz from https://www.dropbox.com/s/fclsl7pukcpobsb/QG_jets.npz?dl=1 to /root/.energyflow/datasets\n",
      "X shape:  (100000, 139, 4)\n"
     ]
    }
   ],
   "source": [
    "import energyflow\n",
    "dataset = energyflow.qg_jets.load(num_data=100000, pad=True, ncol=4, generator='pythia',with_bc=False, cache_dir='~/.energyflow')                    \n",
    "X = dataset[:-1][0]\n",
    "y = dataset[-1]\n",
    "sum_array_1 = []\n",
    "sum_array_2 = []\n",
    "sum_array_3 = []\n",
    "sum_array_4 = []\n",
    "for i in range(X.shape[0]):\n",
    "    temp_1 = 0\n",
    "    temp_2 = 0\n",
    "    temp_3 = 0\n",
    "    temp_4 = 0\n",
    "    for j in range(X.shape[1]):\n",
    "        if(X[i][j][0]!=0):\n",
    "            temp_1 += X[i][j][0]\n",
    "        if(X[i][j][1]!=0):\n",
    "            temp_2 += X[i][j][1]\n",
    "        if(X[i][j][2]!=0):\n",
    "            temp_3 += X[i][j][2]\n",
    "        if(X[i][j][3]!=0):\n",
    "            temp_4 += X[i][j][3]\n",
    "    sum_array_1.append(temp_1)\n",
    "    sum_array_2.append(temp_2)\n",
    "    sum_array_3.append(temp_3)\n",
    "    sum_array_4.append(temp_4)\n",
    "mean_1 = sum(sum_array_1)/len(sum_array_1)\n",
    "mean_2 = sum(sum_array_2)/len(sum_array_2)\n",
    "mean_3 = sum(sum_array_3)/len(sum_array_3)\n",
    "mean_4 = sum(sum_array_4)/len(sum_array_4)\n",
    "bool_1 = [i<=mean_1 for i in sum_array_1]\n",
    "bool_2 = [i<=mean_2 for i in sum_array_2]\n",
    "bool_3 = [i<=mean_3 for i in sum_array_3]\n",
    "bool_4 = [i<=mean_4 for i in sum_array_4]\n",
    "binary_1 = []\n",
    "for i in bool_1:\n",
    "    if(i==True):\n",
    "        binary_1.append(1)\n",
    "    else:\n",
    "        binary_1.append(0)\n",
    "binary_2 = []\n",
    "for i in bool_2:\n",
    "    if(i==True):\n",
    "        binary_2.append(1)\n",
    "    else:\n",
    "        binary_2.append(0)\n",
    "binary_3 = []\n",
    "for i in bool_3:\n",
    "    if(i==True):\n",
    "        binary_3.append(1)\n",
    "    else:\n",
    "        binary_3.append(0)\n",
    "binary_4 = []\n",
    "for i in bool_4:\n",
    "    if(i==True):\n",
    "        binary_4.append(1)\n",
    "    else:\n",
    "        binary_4.append(0)\n",
    "binary = []\n",
    "for i in range(len(binary_1)):\n",
    "    binary.append(binary_1[i] + binary_2[i] + binary_3[i] + binary_4[i])\n",
    "connections_0 = []\n",
    "connections_1 = []\n",
    "connections_2 = []\n",
    "connections_3 = []\n",
    "connections_4 = []\n",
    "for i in range(len(binary)):\n",
    "    if(binary[i]==0):\n",
    "        connections_0.append(i)\n",
    "    if(binary[i]==1):\n",
    "        connections_1.append(i)\n",
    "    if(binary[i]==2):\n",
    "        connections_2.append(i)\n",
    "    if(binary[i]==3):\n",
    "        connections_3.append(i)\n",
    "    if(binary[i]==4):\n",
    "        connections_4.append(i)\n",
    "labels = []\n",
    "labels.append('Quarks')\n",
    "labels.append('Gluons')\n",
    "nodes = []\n",
    "N = X.shape[0]\n",
    "F = X.shape[2]\n",
    "print('X shape: ', X.shape)\n",
    "edge_list=[]\n",
    "for i in range(len(connections_1)-1):\n",
    "    edge_list.append((connections_1[i],connections_1[i+1]))\n",
    "for i in range(len(connections_2)-1):\n",
    "    edge_list.append((connections_2[i],connections_2[i+1]))\n",
    "for i in range(len(connections_3)-1):\n",
    "    edge_list.append((connections_3[i],connections_3[i+1]))\n",
    "for i in range(len(connections_4)-1):\n",
    "    edge_list.append((connections_4[i],connections_4[i+1]))"
   ]
  },
  {
   "cell_type": "code",
   "execution_count": 14,
   "metadata": {
    "colab": {
     "base_uri": "https://localhost:8080/"
    },
    "id": "6cnCcqrUPj6a",
    "outputId": "bcc37599-c518-47ca-a31e-203636b71328"
   },
   "outputs": [
    {
     "data": {
      "text/plain": [
       "94572"
      ]
     },
     "execution_count": 14,
     "metadata": {},
     "output_type": "execute_result"
    }
   ],
   "source": [
    "len(edge_list)"
   ]
  },
  {
   "cell_type": "markdown",
   "metadata": {
    "id": "oDc6-_2-PIf-"
   },
   "source": [
    "## Implementing QGNN circuit on dummy data (Main task)"
   ]
  },
  {
   "cell_type": "code",
   "execution_count": 9,
   "metadata": {
    "colab": {
     "base_uri": "https://localhost:8080/"
    },
    "id": "abuli6CTFA6v",
    "outputId": "0be18cf8-a93b-40de-fbec-bb2903663360"
   },
   "outputs": [
    {
     "name": "stdout",
     "output_type": "stream",
     "text": [
      "Expectation values: [0.74585141 0.86008934 0.85579247 0.65454619]\n",
      "Binary classification output: [1, 1, 1, 1]\n"
     ]
    }
   ],
   "source": [
    "import pennylane as qml\n",
    "from pennylane import numpy as np\n",
    "\n",
    "dev = qml.device(\"default.qubit\", wires=X.shape[0]) #simulating qubits on a classical computer\n",
    "\n",
    "@qml.qnode(dev) #defining quantum node\n",
    "def qgnn_circuit(edge_list, features):\n",
    "    for edge in edge_list:\n",
    "        qml.CNOT(wires=[edge[0], edge[1]])\n",
    "\n",
    "    for i in range(len(features)):\n",
    "        qml.RY(features[i], wires=i)\n",
    "\n",
    "    for edge in edge_list:\n",
    "        qml.CNOT(wires=[edge[0], edge[1]])\n",
    "\n",
    "    return [qml.expval(qml.PauliZ(i)) for i in range(len(features))]\n",
    "\n",
    "# Define the edge list and features for a simple graph\n",
    "edge_list = [(0, 1), (1, 2), (2, 3), (3, 0)]\n",
    "features = np.array([0.5, 0.2, -0.1, 0.7])\n",
    "\n",
    "# Execute the QGNN circuit on the edge list and features\n",
    "result = qgnn_circuit(edge_list, features)\n",
    "\n",
    "# Map the expectation values to a binary classification output\n",
    "threshold = 0.0\n",
    "output = [1 if expval > threshold else 0 for expval in result]\n",
    "\n",
    "print(\"Expectation values:\", result)\n",
    "print(\"Binary classification output:\", output)"
   ]
  },
  {
   "cell_type": "code",
   "execution_count": 8,
   "metadata": {
    "colab": {
     "base_uri": "https://localhost:8080/"
    },
    "id": "aLxhcSXtINKC",
    "outputId": "50beba51-2a18-406f-bd9e-c556a007c33d"
   },
   "outputs": [
    {
     "name": "stdout",
     "output_type": "stream",
     "text": [
      "0: ─╭●───────╭X──RY(0.50)──╭●───────╭X─┤  <Z>\n",
      "1: ─╰X─╭●────│───RY(0.20)──╰X─╭●────│──┤  <Z>\n",
      "2: ────╰X─╭●─│───RY(-0.10)────╰X─╭●─│──┤  <Z>\n",
      "3: ───────╰X─╰●──RY(0.70)────────╰X─╰●─┤  <Z>\n"
     ]
    }
   ],
   "source": [
    "print(qml.draw(qgnn_circuit)(edge_list, features))"
   ]
  },
  {
   "cell_type": "markdown",
   "metadata": {
    "id": "0qEpqhFtTQLj"
   },
   "source": [
    "# Exploring code for Using quark-gluon dataset to train a QGNN model"
   ]
  },
  {
   "cell_type": "markdown",
   "metadata": {},
   "source": [
    "### Although not part of the main task,I was curious to see how far i can go with implementing a QGNN model on the quark gluon dataset"
   ]
  },
  {
   "cell_type": "code",
   "execution_count": 15,
   "metadata": {
    "colab": {
     "base_uri": "https://localhost:8080/",
     "height": 380
    },
    "id": "0S3H5UjJTVX6",
    "outputId": "9e543824-642b-4c30-8e33-2bbb4b8bd5d5"
   },
   "outputs": [
    {
     "ename": "ValueError",
     "evalue": "ignored",
     "output_type": "error",
     "traceback": [
      "\u001b[0;31m---------------------------------------------------------------------------\u001b[0m",
      "\u001b[0;31mValueError\u001b[0m                                Traceback (most recent call last)",
      "\u001b[0;32m<ipython-input-15-c6a30b68870d>\u001b[0m in \u001b[0;36m<module>\u001b[0;34m\u001b[0m\n\u001b[1;32m      7\u001b[0m \u001b[0;34m\u001b[0m\u001b[0m\n\u001b[1;32m      8\u001b[0m \u001b[0;31m# Define the QGNN circuit\u001b[0m\u001b[0;34m\u001b[0m\u001b[0;34m\u001b[0m\u001b[0;34m\u001b[0m\u001b[0m\n\u001b[0;32m----> 9\u001b[0;31m \u001b[0mdev\u001b[0m \u001b[0;34m=\u001b[0m \u001b[0mqml\u001b[0m\u001b[0;34m.\u001b[0m\u001b[0mdevice\u001b[0m\u001b[0;34m(\u001b[0m\u001b[0;34m\"default.qubit\"\u001b[0m\u001b[0;34m,\u001b[0m \u001b[0mwires\u001b[0m\u001b[0;34m=\u001b[0m\u001b[0mX\u001b[0m\u001b[0;34m.\u001b[0m\u001b[0mshape\u001b[0m\u001b[0;34m[\u001b[0m\u001b[0;36m1\u001b[0m\u001b[0;34m]\u001b[0m\u001b[0;34m)\u001b[0m\u001b[0;34m\u001b[0m\u001b[0;34m\u001b[0m\u001b[0m\n\u001b[0m\u001b[1;32m     10\u001b[0m \u001b[0;34m@\u001b[0m\u001b[0mqml\u001b[0m\u001b[0;34m.\u001b[0m\u001b[0mqnode\u001b[0m\u001b[0;34m(\u001b[0m\u001b[0mdev\u001b[0m\u001b[0;34m)\u001b[0m\u001b[0;34m\u001b[0m\u001b[0;34m\u001b[0m\u001b[0m\n\u001b[1;32m     11\u001b[0m \u001b[0;32mdef\u001b[0m \u001b[0mqgnn_circuit\u001b[0m\u001b[0;34m(\u001b[0m\u001b[0mfeatures\u001b[0m\u001b[0;34m)\u001b[0m\u001b[0;34m:\u001b[0m\u001b[0;34m\u001b[0m\u001b[0;34m\u001b[0m\u001b[0m\n",
      "\u001b[0;32m/usr/local/lib/python3.8/dist-packages/pennylane/__init__.py\u001b[0m in \u001b[0;36mdevice\u001b[0;34m(name, *args, **kwargs)\u001b[0m\n\u001b[1;32m    324\u001b[0m \u001b[0;34m\u001b[0m\u001b[0m\n\u001b[1;32m    325\u001b[0m         \u001b[0;31m# Construct the device\u001b[0m\u001b[0;34m\u001b[0m\u001b[0;34m\u001b[0m\u001b[0;34m\u001b[0m\u001b[0m\n\u001b[0;32m--> 326\u001b[0;31m         \u001b[0mdev\u001b[0m \u001b[0;34m=\u001b[0m \u001b[0mplugin_device_class\u001b[0m\u001b[0;34m(\u001b[0m\u001b[0;34m*\u001b[0m\u001b[0margs\u001b[0m\u001b[0;34m,\u001b[0m \u001b[0;34m**\u001b[0m\u001b[0moptions\u001b[0m\u001b[0;34m)\u001b[0m\u001b[0;34m\u001b[0m\u001b[0;34m\u001b[0m\u001b[0m\n\u001b[0m\u001b[1;32m    327\u001b[0m \u001b[0;34m\u001b[0m\u001b[0m\n\u001b[1;32m    328\u001b[0m         \u001b[0;31m# Once the device is constructed, we set its custom expansion function if\u001b[0m\u001b[0;34m\u001b[0m\u001b[0;34m\u001b[0m\u001b[0;34m\u001b[0m\u001b[0m\n",
      "\u001b[0;32m/usr/local/lib/python3.8/dist-packages/pennylane/devices/default_qubit.py\u001b[0m in \u001b[0;36m__init__\u001b[0;34m(self, wires, r_dtype, c_dtype, shots, analytic)\u001b[0m\n\u001b[1;32m    182\u001b[0m         \u001b[0;31m# Create the initial state. Internally, we store the\u001b[0m\u001b[0;34m\u001b[0m\u001b[0;34m\u001b[0m\u001b[0;34m\u001b[0m\u001b[0m\n\u001b[1;32m    183\u001b[0m         \u001b[0;31m# state as an array of dimension [2]*wires.\u001b[0m\u001b[0;34m\u001b[0m\u001b[0;34m\u001b[0m\u001b[0;34m\u001b[0m\u001b[0m\n\u001b[0;32m--> 184\u001b[0;31m         \u001b[0mself\u001b[0m\u001b[0;34m.\u001b[0m\u001b[0m_state\u001b[0m \u001b[0;34m=\u001b[0m \u001b[0mself\u001b[0m\u001b[0;34m.\u001b[0m\u001b[0m_create_basis_state\u001b[0m\u001b[0;34m(\u001b[0m\u001b[0;36m0\u001b[0m\u001b[0;34m)\u001b[0m\u001b[0;34m\u001b[0m\u001b[0;34m\u001b[0m\u001b[0m\n\u001b[0m\u001b[1;32m    185\u001b[0m         \u001b[0mself\u001b[0m\u001b[0;34m.\u001b[0m\u001b[0m_pre_rotated_state\u001b[0m \u001b[0;34m=\u001b[0m \u001b[0mself\u001b[0m\u001b[0;34m.\u001b[0m\u001b[0m_state\u001b[0m\u001b[0;34m\u001b[0m\u001b[0;34m\u001b[0m\u001b[0m\n\u001b[1;32m    186\u001b[0m \u001b[0;34m\u001b[0m\u001b[0m\n",
      "\u001b[0;32m/usr/local/lib/python3.8/dist-packages/pennylane/devices/default_qubit.py\u001b[0m in \u001b[0;36m_create_basis_state\u001b[0;34m(self, index)\u001b[0m\n\u001b[1;32m    674\u001b[0m         \u001b[0mNote\u001b[0m\u001b[0;34m:\u001b[0m \u001b[0mThis\u001b[0m \u001b[0mfunction\u001b[0m \u001b[0mdoes\u001b[0m \u001b[0;32mnot\u001b[0m \u001b[0msupport\u001b[0m \u001b[0mbroadcasted\u001b[0m \u001b[0minputs\u001b[0m \u001b[0myet\u001b[0m\u001b[0;34m.\u001b[0m\u001b[0;34m\u001b[0m\u001b[0;34m\u001b[0m\u001b[0m\n\u001b[1;32m    675\u001b[0m         \"\"\"\n\u001b[0;32m--> 676\u001b[0;31m         \u001b[0mstate\u001b[0m \u001b[0;34m=\u001b[0m \u001b[0mnp\u001b[0m\u001b[0;34m.\u001b[0m\u001b[0mzeros\u001b[0m\u001b[0;34m(\u001b[0m\u001b[0;36m2\u001b[0m\u001b[0;34m**\u001b[0m\u001b[0mself\u001b[0m\u001b[0;34m.\u001b[0m\u001b[0mnum_wires\u001b[0m\u001b[0;34m,\u001b[0m \u001b[0mdtype\u001b[0m\u001b[0;34m=\u001b[0m\u001b[0mnp\u001b[0m\u001b[0;34m.\u001b[0m\u001b[0mcomplex128\u001b[0m\u001b[0;34m)\u001b[0m\u001b[0;34m\u001b[0m\u001b[0;34m\u001b[0m\u001b[0m\n\u001b[0m\u001b[1;32m    677\u001b[0m         \u001b[0mstate\u001b[0m\u001b[0;34m[\u001b[0m\u001b[0mindex\u001b[0m\u001b[0;34m]\u001b[0m \u001b[0;34m=\u001b[0m \u001b[0;36m1\u001b[0m\u001b[0;34m\u001b[0m\u001b[0;34m\u001b[0m\u001b[0m\n\u001b[1;32m    678\u001b[0m         \u001b[0mstate\u001b[0m \u001b[0;34m=\u001b[0m \u001b[0mself\u001b[0m\u001b[0;34m.\u001b[0m\u001b[0m_asarray\u001b[0m\u001b[0;34m(\u001b[0m\u001b[0mstate\u001b[0m\u001b[0;34m,\u001b[0m \u001b[0mdtype\u001b[0m\u001b[0;34m=\u001b[0m\u001b[0mself\u001b[0m\u001b[0;34m.\u001b[0m\u001b[0mC_DTYPE\u001b[0m\u001b[0;34m)\u001b[0m\u001b[0;34m\u001b[0m\u001b[0;34m\u001b[0m\u001b[0m\n",
      "\u001b[0;31mValueError\u001b[0m: Maximum allowed dimension exceeded"
     ]
    }
   ],
   "source": [
    "import pennylane as qml\n",
    "from pennylane import numpy as np\n",
    "from sklearn.model_selection import train_test_split\n",
    "\n",
    "# Split the dataset into training and testing sets\n",
    "X_train, X_test, y_train, y_test = train_test_split(X, y, test_size=0.2, random_state=42)\n",
    "\n",
    "# Define the QGNN circuit\n",
    "dev = qml.device(\"default.qubit\", wires=X.shape[1])\n",
    "@qml.qnode(dev)\n",
    "def qgnn_circuit(features):\n",
    "    for edge in edge_list:\n",
    "        qml.CNOT(wires=[edge[0], edge[1]])\n",
    "\n",
    "    for i in range(len(features)):\n",
    "        qml.RY(features[i], wires=i)\n",
    "\n",
    "    for edge in edge_list:\n",
    "        qml.CNOT(wires=[edge[0], edge[1]])\n",
    "\n",
    "    return [qml.expval(qml.PauliZ(i)) for i in range(len(features))]\n",
    "\n",
    "# Define the QGNN classifier\n",
    "def qgnn_classifier(features):\n",
    "    probs = qgnn_circuit(features)\n",
    "    return probs[0]\n",
    "\n",
    "# Define the QGNN loss function\n",
    "def qgnn_loss(features, label):\n",
    "    prediction = qgnn_classifier(features)\n",
    "    return (label - prediction) ** 2\n",
    "\n",
    "# Initialize the QGNN weights\n",
    "weights = np.random.randn(X.shape[1])\n",
    "\n",
    "# Train the QGNN using gradient descent\n",
    "lr = 0.1\n",
    "epochs = 1000\n",
    "for epoch in range(epochs):\n",
    "    for i in range(X_train.shape[0]):\n",
    "        features = X_train[i]\n",
    "        label = y_train[i]\n",
    "        grad_fn = qml.grad(qgnn_loss, argnum=0)\n",
    "        weights = weights - lr * grad_fn(features, label)\n",
    "\n",
    "    if epoch % 100 == 0:\n",
    "        loss = 0\n",
    "        for i in range(X_test.shape[0]):\n",
    "            features = X_test[i]\n",
    "            label = y_test[i]\n",
    "            loss += qgnn_loss(features, label)\n",
    "        print(f\"Epoch {epoch}: loss = {loss/X_test.shape[0]}\")\n",
    "\n",
    "# Test the QGNN on the test set\n",
    "correct = 0\n",
    "total = X_test.shape[0]\n",
    "for i in range(total):\n",
    "    features = X_test[i]\n",
    "    label = y_test[i]\n",
    "    prediction = qgnn_classifier(features)\n",
    "    if prediction >= 0.5 and label == 1:\n",
    "        correct += 1\n",
    "    elif prediction < 0.5 and label == 0:\n",
    "        correct += 1\n",
    "\n",
    "accuracy = correct / total\n",
    "print(f\"Test accuracy: {accuracy}\")"
   ]
  },
  {
   "cell_type": "markdown",
   "metadata": {
    "id": "T2YYrMIhTyYR"
   },
   "source": [
    "### Unfortunately,the number of qubits are extremely large to finish the entire implementation on this large dataset. Once these qubits are obtained, these features would be quantum encoded for a single data point. The circuit consists of several layers of quantum gates, each of which acts on pairs of qubits that are connected by an edge in the graph. In this case, we are using a simple two-qubit gate, the CNOT gate, for each edge in the graph.We then measure the expectation value of the Pauli-Z operator on each qubit in the circuit, which measures the spin of the qubit along the z-axis,which is trained on the gradient descent optimizer of pennylane. This gives us a real number that represents the output of the QGNN circuit for the given input of features. The expectation values can be mapped onto a classical output by thresholding them at a certain value(which is 0.5 in our case)."
   ]
  }
 ],
 "metadata": {
  "colab": {
   "provenance": []
  },
  "kernelspec": {
   "display_name": "Python 3 (ipykernel)",
   "language": "python",
   "name": "python3"
  },
  "language_info": {
   "codemirror_mode": {
    "name": "ipython",
    "version": 3
   },
   "file_extension": ".py",
   "mimetype": "text/x-python",
   "name": "python",
   "nbconvert_exporter": "python",
   "pygments_lexer": "ipython3",
   "version": "3.9.13"
  }
 },
 "nbformat": 4,
 "nbformat_minor": 1
}
