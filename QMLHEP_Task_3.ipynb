{
 "cells": [
  {
   "cell_type": "markdown",
   "id": "50827d71",
   "metadata": {},
   "source": [
    "# Task 3 : Quantum Computing and Quantum Machine Learning\n",
    "\n",
    " Quantum computing is a rapidly growing field that aims to use quantum-mechanical phenomena to perform computations more efficiently than classical computers as superposition of qubits allows quantum computers to perform certain calculations in parallel, which can result in significant speedups for certain problems. These calculations are also improved using the principle of quantum entanglement where these pairing of qubits allows for flow of information in an instant. Apart from fast calculations,quantum computing allows for the accurate simulation of quantum systems which is not possible using binary bits of classical computers.\n",
    "\n",
    " As mentioned in the second task, limited computational power is one of the biggest challenges faced by Machine learning engineers while developing models. Moreover, improving hardware may not always be the optimal and feasible solution. And this is where quantum machine learning comes into play where quantum computing is combined with the classical machine learning models to solve complex problems that are beyond the capabilities of classical computers. The goal is to leverage the properties of quantum mechanics to develop more efficient and powerful machine learning algorithms.\n",
    "\n",
    "## Quantum Algorithm : Shor's algorithm\n",
    "\n",
    "Although I am new to the world of quantum computing and quantum machine learning, I am familiar with the Shor's algorithm with sees application in the field of cryptography and encryption. It was an algorithm deveoped by Peter Shor to calculate the prime factors of a very large number. The typical RSA algorithm used by classical computers are computationally expensive as they deal with factorizing of very large numbers which takes a long time even with a very fast modern supercomputer.\n",
    "\n",
    "## Shor's algorithm makes these prime factorizations exponentially faster. The algorithm works as follows:-\n",
    "\n",
    "Assume we are trying to find the prime factors of a large number N. Lets say we initialize a random guess g as one of the factors of N (a bad guess which has a very small chance of being a factor of N if N is large). If g is not a factor of N, we use the following property.\n",
    "\n",
    "g^p = m * N +1 for some values of p and m.Upon rearranging, g^p - 1 = m * N => (g^(p/2)+1)(g^(p/2)-1) = m * N. These two factors on the L.H.S are the improved guesses of the factors of N. I say improved and not the exact factors as it is possible that one of these factors is a multiple of N and the other is a factor of m, both of which are not useful. However,it is found that there is a 99% chance that these factors are found within 10 tries of guessing of g. In the least, we can say with certainity that both those factors share a factor with N. And by using Euclid's algorithm, we can find the exact factor for N.\n",
    "\n",
    "The main problem is finding the value of p which is extremely computational for classical computers, especially for very big numbers. This is where Shor's algorithm uses quantum computing to find this p.\n",
    "First,the quantum computer takes the superposition of multiple values x1,x2.... . They are then raised to the power of g. Lets say, for a random x, g^x = m * N + r (ideally for a factor,we want r = 1). So the quantum computer then calculates the value of this remainder r.\n",
    "\n",
    "We now use the following mathematical property:-\n",
    "\n",
    "If g^x = m * N + r then g^(x+p) = m2 * N + r , for some integer m2. So if we take the superposition of all possible powers, the remainder would be obtained after the superposition of only those elements repeating with a period p (i,e x,x+p,x+2p,x-p,... and so on) and the other elements are removed during destructive interference. The frequency of these elements would be f = 1/p.\n",
    "\n",
    "This frequency is then found using Fourier Transforms. But in a quantum fourier transform (QFT), we get a weighted superposition of all other numbers. And for superposed elements as input,the ouput would be a superposition of the superposition of elements causing destructive interference.\n",
    "\n",
    "So for |x> + |x+p> + |x+2p>... as input,the elements with other frequencies interfere destructively and we get |1/p> as output and finally, p is found. And then, g^(p/2+1) and g^(p/2-1) are found,which upon applying Euclid's algorithm gives the exact factors of N.\n",
    "\n",
    "## In short, Shor's algorithm applies the principle of quantum superposition to decrease the time complexity of finding these factors of a very big number\n",
    "\n",
    "## Quantum Software : Qiskit\n",
    "\n",
    "Qiskit is an open-source dev kit for building quantum computing programs, simulators, and applications. It was developed by IBM. It includes several modules like Terra,Aer,Ignis,Aqua,etc..., each of which is focused on a specific aspect of quantum computing. For example, Aer, the module used in Task 1 helps in visualizing a quantum circuit with noise and other realistic effects.\n",
    "\n",
    "# Interesting methods on Quantum Machine Learning\n",
    "\n",
    "## Quantum SVMs\n",
    "\n",
    "As we already know, Support Vector Machines work by finding the hyperplane that maximizes the margin between the two classes in a given dataset. And the most computationally intensive work of SVMs,specifically Kernel SVMs, is to find the kernel function to classify non-linear datasets and mapping them into a feature space where they are linearly separable. QSVMs are used to improve the performace of the kernel function, thereby yielding a better score.QSVMs were mentioned in the 2018 paper 'Quantum machine learning in feature Hilbert spaces' by Maria Schuld and  Nathan Killoran (\tarXiv:1803.07128) and it would be interesting to apply QSVMs on classification/regression problems of astrophysics and cosmology.\n",
    "\n",
    "## Quantum PCA\n",
    "\n",
    "Quantum PCA (qPCA) is a quantum algorithm that aims to perform PCA on quantum data. The basic idea behind qPCA is to encode the quantum data into a quantum state, which can then be used to compute the principal components of the data. This is done using a quantum circuit that performs a sequence of quantum operations, such as quantum Fourier transforms and rotations. Dimensionality reduction is extremely important to reduce the computational intensity of the problem for large datasets such as those used in earlier tasks and if quantum ML models were to be applied, qPCA might help in faster modelling. The concept of qPCA was explored in multiple papers including 'Quantum principal component analysis' (https://rdcu.be/c6Rvj) (2014) and 'Resonant quantum principal component analysis' (https://www.science.org/doi/10.1126/sciadv.abg2589) (2021).\n",
    "\n",
    "## Quantum K-Means Clustering \n",
    "\n",
    "Quantum K-means (QK-means) is a quantum machine learning algorithm that uses quantum circuits to perform the clustering process. It was proposed by Lloyd, Mohseni, and Rebentrost in 2013 \n",
    "https://doi.org/10.48550/arXiv.1307.0411). \n",
    "The algorithm begins with a quantum circuit that prepares a superposition of all possible cluster assignments. The circuit then measures the distances between the data points and the cluster centers using a quantum distance function. The result of the measurement is used to update the cluster assignments and estimate the new cluster centers. This process is repeated until convergence is achieved.\n",
    "\n",
    "# I am aware that these Quantum Machine Learning algorithms are still in their early stages of development and quantum computers are not powerful enough to implement these on very large datasets. But I would be interested to work on these models for smaller datasets and compare them with their classical counterparts."
   ]
  }
 ],
 "metadata": {
  "kernelspec": {
   "display_name": "Python 3 (ipykernel)",
   "language": "python",
   "name": "python3"
  },
  "language_info": {
   "codemirror_mode": {
    "name": "ipython",
    "version": 3
   },
   "file_extension": ".py",
   "mimetype": "text/x-python",
   "name": "python",
   "nbconvert_exporter": "python",
   "pygments_lexer": "ipython3",
   "version": "3.9.13"
  }
 },
 "nbformat": 4,
 "nbformat_minor": 5
}
